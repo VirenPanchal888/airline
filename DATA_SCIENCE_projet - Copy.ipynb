{
 "cells": [
  {
   "cell_type": "code",
   "execution_count": 50,
   "id": "23ca8d6c-98ca-46b2-a195-da2dbd36335e",
   "metadata": {},
   "outputs": [],
   "source": [
    "import pandas as pd\n",
    "import seaborn as sns\n",
    "import matplotlib.pyplot as plt\n",
    "import numpy as np"
   ]
  },
  {
   "cell_type": "code",
   "execution_count": 51,
   "id": "44ccef4b-f4bb-404f-94b8-95870bc9ca20",
   "metadata": {},
   "outputs": [],
   "source": [
    "df=pd.read_csv('C:\\\\airline\\\\Airline Delay (1).csv')\n"
   ]
  },
  {
   "cell_type": "code",
   "execution_count": 52,
   "id": "38d66c10-ee1e-48a8-83d9-63a265552a28",
   "metadata": {
    "scrolled": true
   },
   "outputs": [
    {
     "data": {
      "text/html": [
       "<div>\n",
       "<style scoped>\n",
       "    .dataframe tbody tr th:only-of-type {\n",
       "        vertical-align: middle;\n",
       "    }\n",
       "\n",
       "    .dataframe tbody tr th {\n",
       "        vertical-align: top;\n",
       "    }\n",
       "\n",
       "    .dataframe thead th {\n",
       "        text-align: right;\n",
       "    }\n",
       "</style>\n",
       "<table border=\"1\" class=\"dataframe\">\n",
       "  <thead>\n",
       "    <tr style=\"text-align: right;\">\n",
       "      <th></th>\n",
       "      <th>year</th>\n",
       "      <th>month</th>\n",
       "      <th>carrier</th>\n",
       "      <th>carrier_name</th>\n",
       "      <th>airport</th>\n",
       "      <th>airport_name</th>\n",
       "      <th>arr_flights</th>\n",
       "      <th>arr_del15</th>\n",
       "      <th>carrier_ct</th>\n",
       "      <th>weather_ct</th>\n",
       "      <th>...</th>\n",
       "      <th>security_ct</th>\n",
       "      <th>late_aircraft_ct</th>\n",
       "      <th>arr_cancelled</th>\n",
       "      <th>arr_diverted</th>\n",
       "      <th>arr_delay</th>\n",
       "      <th>carrier_delay</th>\n",
       "      <th>weather_delay</th>\n",
       "      <th>nas_delay</th>\n",
       "      <th>security_delay</th>\n",
       "      <th>late_aircraft_delay</th>\n",
       "    </tr>\n",
       "  </thead>\n",
       "  <tbody>\n",
       "    <tr>\n",
       "      <th>0</th>\n",
       "      <td>2020</td>\n",
       "      <td>12</td>\n",
       "      <td>9E</td>\n",
       "      <td>Endeavor Air Inc.</td>\n",
       "      <td>ABE</td>\n",
       "      <td>Allentown/Bethlehem/Easton, PA: Lehigh Valley ...</td>\n",
       "      <td>44.0</td>\n",
       "      <td>3.0</td>\n",
       "      <td>1.63</td>\n",
       "      <td>0.00</td>\n",
       "      <td>...</td>\n",
       "      <td>0.0</td>\n",
       "      <td>1.25</td>\n",
       "      <td>0.0</td>\n",
       "      <td>1.0</td>\n",
       "      <td>89.0</td>\n",
       "      <td>56.0</td>\n",
       "      <td>0.0</td>\n",
       "      <td>3.0</td>\n",
       "      <td>0.0</td>\n",
       "      <td>30.0</td>\n",
       "    </tr>\n",
       "    <tr>\n",
       "      <th>1</th>\n",
       "      <td>2020</td>\n",
       "      <td>12</td>\n",
       "      <td>9E</td>\n",
       "      <td>Endeavor Air Inc.</td>\n",
       "      <td>ABY</td>\n",
       "      <td>Albany, GA: Southwest Georgia Regional</td>\n",
       "      <td>90.0</td>\n",
       "      <td>1.0</td>\n",
       "      <td>0.96</td>\n",
       "      <td>0.00</td>\n",
       "      <td>...</td>\n",
       "      <td>0.0</td>\n",
       "      <td>0.00</td>\n",
       "      <td>0.0</td>\n",
       "      <td>0.0</td>\n",
       "      <td>23.0</td>\n",
       "      <td>22.0</td>\n",
       "      <td>0.0</td>\n",
       "      <td>1.0</td>\n",
       "      <td>0.0</td>\n",
       "      <td>0.0</td>\n",
       "    </tr>\n",
       "    <tr>\n",
       "      <th>2</th>\n",
       "      <td>2020</td>\n",
       "      <td>12</td>\n",
       "      <td>9E</td>\n",
       "      <td>Endeavor Air Inc.</td>\n",
       "      <td>AEX</td>\n",
       "      <td>Alexandria, LA: Alexandria International</td>\n",
       "      <td>88.0</td>\n",
       "      <td>8.0</td>\n",
       "      <td>5.75</td>\n",
       "      <td>0.00</td>\n",
       "      <td>...</td>\n",
       "      <td>0.0</td>\n",
       "      <td>0.65</td>\n",
       "      <td>0.0</td>\n",
       "      <td>1.0</td>\n",
       "      <td>338.0</td>\n",
       "      <td>265.0</td>\n",
       "      <td>0.0</td>\n",
       "      <td>45.0</td>\n",
       "      <td>0.0</td>\n",
       "      <td>28.0</td>\n",
       "    </tr>\n",
       "    <tr>\n",
       "      <th>3</th>\n",
       "      <td>2020</td>\n",
       "      <td>12</td>\n",
       "      <td>9E</td>\n",
       "      <td>Endeavor Air Inc.</td>\n",
       "      <td>AGS</td>\n",
       "      <td>Augusta, GA: Augusta Regional at Bush Field</td>\n",
       "      <td>184.0</td>\n",
       "      <td>9.0</td>\n",
       "      <td>4.17</td>\n",
       "      <td>0.00</td>\n",
       "      <td>...</td>\n",
       "      <td>0.0</td>\n",
       "      <td>3.00</td>\n",
       "      <td>0.0</td>\n",
       "      <td>0.0</td>\n",
       "      <td>508.0</td>\n",
       "      <td>192.0</td>\n",
       "      <td>0.0</td>\n",
       "      <td>92.0</td>\n",
       "      <td>0.0</td>\n",
       "      <td>224.0</td>\n",
       "    </tr>\n",
       "    <tr>\n",
       "      <th>4</th>\n",
       "      <td>2020</td>\n",
       "      <td>12</td>\n",
       "      <td>9E</td>\n",
       "      <td>Endeavor Air Inc.</td>\n",
       "      <td>ALB</td>\n",
       "      <td>Albany, NY: Albany International</td>\n",
       "      <td>76.0</td>\n",
       "      <td>11.0</td>\n",
       "      <td>4.78</td>\n",
       "      <td>0.00</td>\n",
       "      <td>...</td>\n",
       "      <td>0.0</td>\n",
       "      <td>1.00</td>\n",
       "      <td>1.0</td>\n",
       "      <td>0.0</td>\n",
       "      <td>692.0</td>\n",
       "      <td>398.0</td>\n",
       "      <td>0.0</td>\n",
       "      <td>178.0</td>\n",
       "      <td>0.0</td>\n",
       "      <td>116.0</td>\n",
       "    </tr>\n",
       "    <tr>\n",
       "      <th>...</th>\n",
       "      <td>...</td>\n",
       "      <td>...</td>\n",
       "      <td>...</td>\n",
       "      <td>...</td>\n",
       "      <td>...</td>\n",
       "      <td>...</td>\n",
       "      <td>...</td>\n",
       "      <td>...</td>\n",
       "      <td>...</td>\n",
       "      <td>...</td>\n",
       "      <td>...</td>\n",
       "      <td>...</td>\n",
       "      <td>...</td>\n",
       "      <td>...</td>\n",
       "      <td>...</td>\n",
       "      <td>...</td>\n",
       "      <td>...</td>\n",
       "      <td>...</td>\n",
       "      <td>...</td>\n",
       "      <td>...</td>\n",
       "      <td>...</td>\n",
       "    </tr>\n",
       "    <tr>\n",
       "      <th>3346</th>\n",
       "      <td>2019</td>\n",
       "      <td>12</td>\n",
       "      <td>EV</td>\n",
       "      <td>ExpressJet Airlines LLC</td>\n",
       "      <td>AMA</td>\n",
       "      <td>Amarillo, TX: Rick Husband Amarillo International</td>\n",
       "      <td>56.0</td>\n",
       "      <td>8.0</td>\n",
       "      <td>2.20</td>\n",
       "      <td>1.00</td>\n",
       "      <td>...</td>\n",
       "      <td>0.0</td>\n",
       "      <td>0.80</td>\n",
       "      <td>0.0</td>\n",
       "      <td>1.0</td>\n",
       "      <td>353.0</td>\n",
       "      <td>165.0</td>\n",
       "      <td>19.0</td>\n",
       "      <td>135.0</td>\n",
       "      <td>0.0</td>\n",
       "      <td>34.0</td>\n",
       "    </tr>\n",
       "    <tr>\n",
       "      <th>3347</th>\n",
       "      <td>2019</td>\n",
       "      <td>12</td>\n",
       "      <td>EV</td>\n",
       "      <td>ExpressJet Airlines LLC</td>\n",
       "      <td>ATL</td>\n",
       "      <td>Atlanta, GA: Hartsfield-Jackson Atlanta Intern...</td>\n",
       "      <td>76.0</td>\n",
       "      <td>17.0</td>\n",
       "      <td>7.51</td>\n",
       "      <td>0.24</td>\n",
       "      <td>...</td>\n",
       "      <td>0.0</td>\n",
       "      <td>5.12</td>\n",
       "      <td>0.0</td>\n",
       "      <td>0.0</td>\n",
       "      <td>1880.0</td>\n",
       "      <td>1516.0</td>\n",
       "      <td>25.0</td>\n",
       "      <td>200.0</td>\n",
       "      <td>0.0</td>\n",
       "      <td>139.0</td>\n",
       "    </tr>\n",
       "    <tr>\n",
       "      <th>3348</th>\n",
       "      <td>2019</td>\n",
       "      <td>12</td>\n",
       "      <td>EV</td>\n",
       "      <td>ExpressJet Airlines LLC</td>\n",
       "      <td>AUS</td>\n",
       "      <td>Austin, TX: Austin - Bergstrom International</td>\n",
       "      <td>7.0</td>\n",
       "      <td>1.0</td>\n",
       "      <td>0.00</td>\n",
       "      <td>0.48</td>\n",
       "      <td>...</td>\n",
       "      <td>0.0</td>\n",
       "      <td>0.00</td>\n",
       "      <td>0.0</td>\n",
       "      <td>0.0</td>\n",
       "      <td>96.0</td>\n",
       "      <td>0.0</td>\n",
       "      <td>46.0</td>\n",
       "      <td>50.0</td>\n",
       "      <td>0.0</td>\n",
       "      <td>0.0</td>\n",
       "    </tr>\n",
       "    <tr>\n",
       "      <th>3349</th>\n",
       "      <td>2019</td>\n",
       "      <td>12</td>\n",
       "      <td>EV</td>\n",
       "      <td>ExpressJet Airlines LLC</td>\n",
       "      <td>AVL</td>\n",
       "      <td>Asheville, NC: Asheville Regional</td>\n",
       "      <td>12.0</td>\n",
       "      <td>1.0</td>\n",
       "      <td>0.00</td>\n",
       "      <td>0.00</td>\n",
       "      <td>...</td>\n",
       "      <td>0.0</td>\n",
       "      <td>0.00</td>\n",
       "      <td>0.0</td>\n",
       "      <td>0.0</td>\n",
       "      <td>23.0</td>\n",
       "      <td>0.0</td>\n",
       "      <td>0.0</td>\n",
       "      <td>23.0</td>\n",
       "      <td>0.0</td>\n",
       "      <td>0.0</td>\n",
       "    </tr>\n",
       "    <tr>\n",
       "      <th>3350</th>\n",
       "      <td>2019</td>\n",
       "      <td>12</td>\n",
       "      <td>EV</td>\n",
       "      <td>ExpressJet Airlines LLC</td>\n",
       "      <td>AZO</td>\n",
       "      <td>Kalamazoo, MI: Kalamazoo/Battle Creek Internat...</td>\n",
       "      <td>9.0</td>\n",
       "      <td>1.0</td>\n",
       "      <td>0.87</td>\n",
       "      <td>0.00</td>\n",
       "      <td>...</td>\n",
       "      <td>0.0</td>\n",
       "      <td>0.00</td>\n",
       "      <td>0.0</td>\n",
       "      <td>0.0</td>\n",
       "      <td>23.0</td>\n",
       "      <td>20.0</td>\n",
       "      <td>0.0</td>\n",
       "      <td>3.0</td>\n",
       "      <td>0.0</td>\n",
       "      <td>0.0</td>\n",
       "    </tr>\n",
       "  </tbody>\n",
       "</table>\n",
       "<p>3351 rows × 21 columns</p>\n",
       "</div>"
      ],
      "text/plain": [
       "      year  month carrier             carrier_name airport  \\\n",
       "0     2020     12      9E        Endeavor Air Inc.     ABE   \n",
       "1     2020     12      9E        Endeavor Air Inc.     ABY   \n",
       "2     2020     12      9E        Endeavor Air Inc.     AEX   \n",
       "3     2020     12      9E        Endeavor Air Inc.     AGS   \n",
       "4     2020     12      9E        Endeavor Air Inc.     ALB   \n",
       "...    ...    ...     ...                      ...     ...   \n",
       "3346  2019     12      EV  ExpressJet Airlines LLC     AMA   \n",
       "3347  2019     12      EV  ExpressJet Airlines LLC     ATL   \n",
       "3348  2019     12      EV  ExpressJet Airlines LLC     AUS   \n",
       "3349  2019     12      EV  ExpressJet Airlines LLC     AVL   \n",
       "3350  2019     12      EV  ExpressJet Airlines LLC     AZO   \n",
       "\n",
       "                                           airport_name  arr_flights  \\\n",
       "0     Allentown/Bethlehem/Easton, PA: Lehigh Valley ...         44.0   \n",
       "1                Albany, GA: Southwest Georgia Regional         90.0   \n",
       "2              Alexandria, LA: Alexandria International         88.0   \n",
       "3           Augusta, GA: Augusta Regional at Bush Field        184.0   \n",
       "4                      Albany, NY: Albany International         76.0   \n",
       "...                                                 ...          ...   \n",
       "3346  Amarillo, TX: Rick Husband Amarillo International         56.0   \n",
       "3347  Atlanta, GA: Hartsfield-Jackson Atlanta Intern...         76.0   \n",
       "3348       Austin, TX: Austin - Bergstrom International          7.0   \n",
       "3349                  Asheville, NC: Asheville Regional         12.0   \n",
       "3350  Kalamazoo, MI: Kalamazoo/Battle Creek Internat...          9.0   \n",
       "\n",
       "      arr_del15  carrier_ct  weather_ct  ...  security_ct  late_aircraft_ct  \\\n",
       "0           3.0        1.63        0.00  ...          0.0              1.25   \n",
       "1           1.0        0.96        0.00  ...          0.0              0.00   \n",
       "2           8.0        5.75        0.00  ...          0.0              0.65   \n",
       "3           9.0        4.17        0.00  ...          0.0              3.00   \n",
       "4          11.0        4.78        0.00  ...          0.0              1.00   \n",
       "...         ...         ...         ...  ...          ...               ...   \n",
       "3346        8.0        2.20        1.00  ...          0.0              0.80   \n",
       "3347       17.0        7.51        0.24  ...          0.0              5.12   \n",
       "3348        1.0        0.00        0.48  ...          0.0              0.00   \n",
       "3349        1.0        0.00        0.00  ...          0.0              0.00   \n",
       "3350        1.0        0.87        0.00  ...          0.0              0.00   \n",
       "\n",
       "      arr_cancelled  arr_diverted  arr_delay  carrier_delay  weather_delay  \\\n",
       "0               0.0           1.0       89.0           56.0            0.0   \n",
       "1               0.0           0.0       23.0           22.0            0.0   \n",
       "2               0.0           1.0      338.0          265.0            0.0   \n",
       "3               0.0           0.0      508.0          192.0            0.0   \n",
       "4               1.0           0.0      692.0          398.0            0.0   \n",
       "...             ...           ...        ...            ...            ...   \n",
       "3346            0.0           1.0      353.0          165.0           19.0   \n",
       "3347            0.0           0.0     1880.0         1516.0           25.0   \n",
       "3348            0.0           0.0       96.0            0.0           46.0   \n",
       "3349            0.0           0.0       23.0            0.0            0.0   \n",
       "3350            0.0           0.0       23.0           20.0            0.0   \n",
       "\n",
       "      nas_delay  security_delay  late_aircraft_delay  \n",
       "0           3.0             0.0                 30.0  \n",
       "1           1.0             0.0                  0.0  \n",
       "2          45.0             0.0                 28.0  \n",
       "3          92.0             0.0                224.0  \n",
       "4         178.0             0.0                116.0  \n",
       "...         ...             ...                  ...  \n",
       "3346      135.0             0.0                 34.0  \n",
       "3347      200.0             0.0                139.0  \n",
       "3348       50.0             0.0                  0.0  \n",
       "3349       23.0             0.0                  0.0  \n",
       "3350        3.0             0.0                  0.0  \n",
       "\n",
       "[3351 rows x 21 columns]"
      ]
     },
     "execution_count": 52,
     "metadata": {},
     "output_type": "execute_result"
    }
   ],
   "source": [
    "df"
   ]
  },
  {
   "cell_type": "code",
   "execution_count": 53,
   "id": "9eb9bbe6-229c-437c-b3f7-f68f487a17f8",
   "metadata": {},
   "outputs": [
    {
     "name": "stdout",
     "output_type": "stream",
     "text": [
      "<class 'pandas.core.frame.DataFrame'>\n",
      "RangeIndex: 3351 entries, 0 to 3350\n",
      "Data columns (total 21 columns):\n",
      " #   Column               Non-Null Count  Dtype  \n",
      "---  ------               --------------  -----  \n",
      " 0   year                 3351 non-null   int64  \n",
      " 1   month                3351 non-null   int64  \n",
      " 2   carrier              3351 non-null   object \n",
      " 3   carrier_name         3351 non-null   object \n",
      " 4   airport              3351 non-null   object \n",
      " 5   airport_name         3351 non-null   object \n",
      " 6   arr_flights          3343 non-null   float64\n",
      " 7   arr_del15            3343 non-null   float64\n",
      " 8   carrier_ct           3343 non-null   float64\n",
      " 9   weather_ct           3343 non-null   float64\n",
      " 10  nas_ct               3343 non-null   float64\n",
      " 11  security_ct          3343 non-null   float64\n",
      " 12  late_aircraft_ct     3343 non-null   float64\n",
      " 13  arr_cancelled        3343 non-null   float64\n",
      " 14  arr_diverted         3343 non-null   float64\n",
      " 15  arr_delay            3343 non-null   float64\n",
      " 16  carrier_delay        3343 non-null   float64\n",
      " 17  weather_delay        3343 non-null   float64\n",
      " 18  nas_delay            3343 non-null   float64\n",
      " 19  security_delay       3343 non-null   float64\n",
      " 20  late_aircraft_delay  3343 non-null   float64\n",
      "dtypes: float64(15), int64(2), object(4)\n",
      "memory usage: 549.9+ KB\n",
      "None\n"
     ]
    }
   ],
   "source": [
    "print(df.info())"
   ]
  },
  {
   "cell_type": "code",
   "execution_count": 54,
   "id": "d99896fd-c8c5-416e-a80b-0b1506022150",
   "metadata": {},
   "outputs": [
    {
     "name": "stdout",
     "output_type": "stream",
     "text": [
      "              year   month   arr_flights    arr_del15   carrier_ct  \\\n",
      "count  3351.000000  3351.0   3343.000000  3343.000000  3343.000000   \n",
      "mean   2019.459266    12.0    298.271014    50.995214    16.065337   \n",
      "std       0.498412     0.0    852.436335   146.484456    41.759516   \n",
      "min    2019.000000    12.0      1.000000     0.000000     0.000000   \n",
      "25%    2019.000000    12.0     35.000000     5.000000     1.490000   \n",
      "50%    2019.000000    12.0     83.000000    12.000000     4.750000   \n",
      "75%    2020.000000    12.0    194.500000    33.000000    12.255000   \n",
      "max    2020.000000    12.0  19713.000000  2289.000000   697.000000   \n",
      "\n",
      "        weather_ct       nas_ct  security_ct  late_aircraft_ct  arr_cancelled  \\\n",
      "count  3343.000000  3343.000000  3343.000000       3343.000000    3343.000000   \n",
      "mean      1.443144    16.183383     0.137320         17.166069       2.884535   \n",
      "std       4.821657    56.423008     0.646479         55.447043      10.126658   \n",
      "min       0.000000     0.000000     0.000000          0.000000       0.000000   \n",
      "25%       0.000000     0.820000     0.000000          0.900000       0.000000   \n",
      "50%       0.060000     2.980000     0.000000          3.280000       0.000000   \n",
      "75%       1.010000     8.870000     0.000000         10.240000       2.000000   \n",
      "max      89.420000  1039.540000    17.310000        819.660000     224.000000   \n",
      "\n",
      "       arr_diverted      arr_delay  carrier_delay  weather_delay    nas_delay  \\\n",
      "count   3343.000000    3343.000000    3343.000000    3343.000000   3343.00000   \n",
      "mean       0.575830    3333.868083    1144.763087     177.591385    749.57942   \n",
      "std        2.097884   10284.926623    3371.103512     734.343542   3190.50916   \n",
      "min        0.000000       0.000000       0.000000       0.000000      0.00000   \n",
      "25%        0.000000     230.000000      68.500000       0.000000     21.50000   \n",
      "50%        0.000000     746.000000     272.000000       3.000000    106.00000   \n",
      "75%        0.000000    2095.500000     830.500000      82.000000    362.00000   \n",
      "max       42.000000  160383.000000   55215.000000   14219.000000  82064.00000   \n",
      "\n",
      "       security_delay  late_aircraft_delay  \n",
      "count     3343.000000          3343.000000  \n",
      "mean         5.400838          1256.533353  \n",
      "std         27.161402          4184.451426  \n",
      "min          0.000000             0.000000  \n",
      "25%          0.000000            31.000000  \n",
      "50%          0.000000           205.000000  \n",
      "75%          0.000000           724.000000  \n",
      "max        553.000000         75179.000000  \n"
     ]
    }
   ],
   "source": [
    "print(df.describe())"
   ]
  },
  {
   "cell_type": "code",
   "execution_count": 55,
   "id": "b046b3ee-cd5a-4d32-983d-58f1e01385a7",
   "metadata": {},
   "outputs": [
    {
     "name": "stdout",
     "output_type": "stream",
     "text": [
      "Index(['year', 'month', 'carrier', 'carrier_name', 'airport', 'airport_name',\n",
      "       'arr_flights', 'arr_del15', 'carrier_ct', 'weather_ct', 'nas_ct',\n",
      "       'security_ct', 'late_aircraft_ct', 'arr_cancelled', 'arr_diverted',\n",
      "       'arr_delay', 'carrier_delay', 'weather_delay', 'nas_delay',\n",
      "       'security_delay', 'late_aircraft_delay'],\n",
      "      dtype='object')\n"
     ]
    }
   ],
   "source": [
    "print(df.columns)"
   ]
  },
  {
   "cell_type": "code",
   "execution_count": 56,
   "id": "9f788d55-8165-477a-ae1f-d911abf58f35",
   "metadata": {},
   "outputs": [],
   "source": [
    "import seaborn as sns"
   ]
  },
  {
   "cell_type": "code",
   "execution_count": 20,
   "id": "3ee62ddf-cffe-41c8-95d3-179d4645bb6d",
   "metadata": {},
   "outputs": [
    {
     "data": {
      "image/png": "[encoded data removed]",
      "text/plain": [
       "<Figure size 640x480 with 1 Axes>"
      ]
     },
     "metadata": {},
     "output_type": "display_data"
    }
   ],
   "source": [
    "sns.histplot(df['arr_delay'])\n",
    "plt.show()"
   ]
  },
  {
   "cell_type": "code",
   "execution_count": 57,
   "id": "2e3086a6-2f6c-48bf-aa28-462b87db88d7",
   "metadata": {},
   "outputs": [],
   "source": [
    "df=df.dropna()"
   ]
  },
  {
   "cell_type": "code",
   "execution_count": 58,
   "id": "f2894b10-6bb9-45a2-982f-eb7eed912781",
   "metadata": {},
   "outputs": [],
   "source": [
    "df = pd.get_dummies(df, columns=['carrier', 'airport'])"
   ]
  },
  {
   "cell_type": "code",
   "execution_count": 59,
   "id": "6f8d72f0-87e4-4745-8bdc-54ead6f7add8",
   "metadata": {},
   "outputs": [],
   "source": [
    "from sklearn.preprocessing import StandardScaler"
   ]
  },
  {
   "cell_type": "code",
   "execution_count": 60,
   "id": "d949031d-05d2-41c9-9eee-c5dffa3bea27",
   "metadata": {},
   "outputs": [],
   "source": [
    "scaler = StandardScaler()"
   ]
  },
  {
   "cell_type": "code",
   "execution_count": 61,
   "id": "8d085011-4be5-48e6-8b25-32f3f3f77f50",
   "metadata": {},
   "outputs": [],
   "source": [
    "df['arr_flights_scaled'] = scaler.fit_transform(df[['arr_flights']])"
   ]
  },
  {
   "cell_type": "code",
   "execution_count": 69,
   "id": "a0c7c11f-5997-4465-a2df-bdac54d96f02",
   "metadata": {},
   "outputs": [],
   "source": [
    "from sklearn.model_selection import train_test_split\n",
    "from sklearn.linear_model import LinearRegression"
   ]
  },
  {
   "cell_type": "code",
   "execution_count": 70,
   "id": "76d959fb-b798-443e-bc0a-7a4ec4af842a",
   "metadata": {},
   "outputs": [],
   "source": [
    "X = df.drop('arr_delay', axis=1)"
   ]
  },
  {
   "cell_type": "code",
   "execution_count": 75,
   "id": "c203b6c1-e6f8-48c2-ad9e-f8ae0b68ede0",
   "metadata": {},
   "outputs": [],
   "source": [
    "y= df['arr_delay']"
   ]
  },
  {
   "cell_type": "code",
   "execution_count": 76,
   "id": "f58e3fc4-35fc-4be9-afc6-f513aecd07fc",
   "metadata": {},
   "outputs": [],
   "source": [
    "X_train, X_test, y_train, y_test = train_test_split(X, y, test_size=0.2)\n"
   ]
  },
  {
   "cell_type": "code",
   "execution_count": 77,
   "id": "70d23551-dc88-4a50-8533-6d71805f3016",
   "metadata": {},
   "outputs": [],
   "source": [
    "model = LinearRegression()"
   ]
  },
  {
   "cell_type": "code",
   "execution_count": 97,
   "id": "815ccd7e-4863-41a3-950b-9a8947e50e57",
   "metadata": {},
   "outputs": [
    {
     "name": "stdout",
     "output_type": "stream",
     "text": [
      "Mean Absolute Error: 612.1089552238806\n",
      "Root Mean Squared Error: 4156.326326198503\n"
     ]
    },
    {
     "data": {
      "image/png": "[encoded data removed]",
      "text/plain": [
       "<Figure size 1000x400 with 1 Axes>"
      ]
     },
     "metadata": {},
     "output_type": "display_data"
    }
   ],
   "source": [
    "model = DecisionTreeRegressor()\n",
    "model.fit(X_train, y_train)\n",
    "\n",
    "\n",
    "y_pred = model.predict(X_test)\n",
    "\n",
    "mae = mean_absolute_error(y_test, y_pred)\n",
    "rmse = np.sqrt(mean_squared_error(y_test, y_pred))\n",
    "\n",
    "print(f'Mean Absolute Error: {mae}')\n",
    "print(f'Root Mean Squared Error: {rmse}')\n",
    "\n",
    "plt.figure(figsize=(10, 4))\n",
    "sns.scatterplot(x=y_test, y=y_pred)\n",
    "plt.title('Actual Delays vs Predicted Delays')\n",
    "plt.xlabel('Actual Delays')\n",
    "plt.ylabel('Predicted Delays')\n",
    "plt.show()"
   ]
  },
  {
   "cell_type": "code",
   "execution_count": 98,
   "id": "0330694d-8b57-428c-889e-0d7e3433f4d2",
   "metadata": {
    "collapsed": true,
    "jupyter": {
     "outputs_hidden": true
    }
   },
   "outputs": [
    {
     "ename": "AttributeError",
     "evalue": "'numpy.ndarray' object has no attribute 'dropna'",
     "output_type": "error",
     "traceback": [
      "\u001b[1;31m---------------------------------------------------------------------------\u001b[0m",
      "\u001b[1;31mAttributeError\u001b[0m                            Traceback (most recent call last)",
      "Cell \u001b[1;32mIn[98], line 2\u001b[0m\n\u001b[0;32m      1\u001b[0m \u001b[38;5;66;03m# Drop rows with missing values in the training data\u001b[39;00m\n\u001b[1;32m----> 2\u001b[0m X_train \u001b[38;5;241m=\u001b[39m \u001b[43mX_train\u001b[49m\u001b[38;5;241;43m.\u001b[39;49m\u001b[43mdropna\u001b[49m()\n\u001b[0;32m      3\u001b[0m y_train \u001b[38;5;241m=\u001b[39m y_train[X_train\u001b[38;5;241m.\u001b[39mindex]  \u001b[38;5;66;03m# Make sure the target variable aligns with the cleaned feature set\u001b[39;00m\n\u001b[0;32m      5\u001b[0m X_test \u001b[38;5;241m=\u001b[39m X_test\u001b[38;5;241m.\u001b[39mdropna()\n",
      "\u001b[1;31mAttributeError\u001b[0m: 'numpy.ndarray' object has no attribute 'dropna'"
     ]
    }
   ],
   "source": [
    "# Drop rows with missing values in the training data\n",
    "X_train = X_train.dropna()\n",
    "y_train = y_train[X_train.index]  # Make sure the target variable aligns with the cleaned feature set\n",
    "\n",
    "X_test = X_test.dropna()\n",
    "y_test = y_test[X_test.index]\n"
   ]
  },
  {
   "cell_type": "code",
   "execution_count": 92,
   "id": "e458f0e2-f16f-4bc6-8130-c74de1aa806c",
   "metadata": {},
   "outputs": [],
   "source": [
    "from sklearn.impute import SimpleImputer\n",
    "\n",
    "imputer = SimpleImputer(strategy='mean')\n",
    "\n",
    "X_train = imputer.fit_transform(X_train)\n",
    "X_test = imputer.transform(X_test)\n"
   ]
  },
  {
   "cell_type": "code",
   "execution_count": 81,
   "id": "a7d8a9b9-daaf-4ef1-ae3b-aecc625fe86d",
   "metadata": {},
   "outputs": [],
   "source": [
    "from sklearn.metrics import mean_absolute_error, mean_squared_error"
   ]
  },
  {
   "cell_type": "code",
   "execution_count": 82,
   "id": "53ec02e3-492a-45e1-a458-5e51979d3c40",
   "metadata": {},
   "outputs": [],
   "source": [
    "predictons= model.predict(X_test)"
   ]
  },
  {
   "cell_type": "code",
   "execution_count": 83,
   "id": "e57d7f32-5c82-47c7-bed9-089469508237",
   "metadata": {},
   "outputs": [
    {
     "data": {
      "text/plain": [
       "1.0"
      ]
     },
     "execution_count": 83,
     "metadata": {},
     "output_type": "execute_result"
    }
   ],
   "source": [
    "model.score(X_test, y_test)"
   ]
  },
  {
   "cell_type": "code",
   "execution_count": 85,
   "id": "72fe0ac1-9999-4750-ad9d-e79c4fc38339",
   "metadata": {},
   "outputs": [],
   "source": [
    "mae = mean_absolute_error(y_test, y_pred)\n"
   ]
  },
  {
   "cell_type": "code",
   "execution_count": 94,
   "id": "51b18154-cd24-4c71-bac3-3734d8a01f2b",
   "metadata": {},
   "outputs": [],
   "source": [
    "rmse = np.sqrt(mean_squared_error(y_test, y_pred))\n"
   ]
  },
  {
   "cell_type": "code",
   "execution_count": 95,
   "id": "3aa6fc0a-785e-4158-aeff-5bf0fd07715e",
   "metadata": {},
   "outputs": [
    {
     "name": "stdout",
     "output_type": "stream",
     "text": [
      "Mean Absolute Error: 612.0537313432836\n",
      "Root Mean Squared Error: 4303.56099963878\n"
     ]
    }
   ],
   "source": [
    "mae = mean_absolute_error(y_test, y_pred)\n",
    "rmse = np.sqrt(mean_squared_error(y_test, y_pred))\n",
    "\n",
    "print(f'Mean Absolute Error: {mae}')\n",
    "print(f'Root Mean Squared Error: {rmse}')"
   ]
  },
  {
   "cell_type": "code",
   "execution_count": null,
   "id": "9d9231bf-1a6e-4c33-ab1f-618ab14f4989",
   "metadata": {},
   "outputs": [],
   "source": []
  }
 ],
 "metadata": {
  "kernelspec": {
   "display_name": "Python 3 (ipykernel)",
   "language": "python",
   "name": "python3"
  },
  "language_info": {
   "codemirror_mode": {
    "name": "ipython",
    "version": 3
   },
   "file_extension": ".py",
   "mimetype": "text/x-python",
   "name": "python",
   "nbconvert_exporter": "python",
   "pygments_lexer": "ipython3",
   "version": "3.12.4"
  }
 },
 "nbformat": 4,
 "nbformat_minor": 5
}
